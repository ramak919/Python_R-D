{
 "cells": [
  {
   "cell_type": "markdown",
   "metadata": {},
   "source": [
    "# Pandas VS SQL\n",
    "#http://pandas.pydata.org/pandas-docs/stable/comparison_with_sql.html\n",
    "#http://www.gregreda.com/2013/10/26/using-pandas-on-the-movielens-dataset/\n",
    "#http://www.dataschool.io/best-python-pandas-resources/\n",
    ". https://www.youtube.com/watch?v=5JnMutdy6Fw&t=1529s ( Pandas from Ground Up)\n",
    "\n",
    "Example \n",
    "\n",
    "https://www.kaggle.com/arillo03/imdb-movie-dataset-analysis"
   ]
  },
  {
   "cell_type": "code",
   "execution_count": 1,
   "metadata": {
    "collapsed": false
   },
   "outputs": [
    {
     "name": "stdout",
     "output_type": "stream",
     "text": [
      "Pandas version 0.20.3\n"
     ]
    },
    {
     "data": {
      "text/html": [
       "<div>\n",
       "<style>\n",
       "    .dataframe thead tr:only-child th {\n",
       "        text-align: right;\n",
       "    }\n",
       "\n",
       "    .dataframe thead th {\n",
       "        text-align: left;\n",
       "    }\n",
       "\n",
       "    .dataframe tbody tr th {\n",
       "        vertical-align: top;\n",
       "    }\n",
       "</style>\n",
       "<table border=\"1\" class=\"dataframe\">\n",
       "  <thead>\n",
       "    <tr style=\"text-align: right;\">\n",
       "      <th></th>\n",
       "      <th>total_bill</th>\n",
       "      <th>tip</th>\n",
       "      <th>sex</th>\n",
       "      <th>smoker</th>\n",
       "      <th>day</th>\n",
       "      <th>time</th>\n",
       "      <th>size</th>\n",
       "    </tr>\n",
       "  </thead>\n",
       "  <tbody>\n",
       "    <tr>\n",
       "      <th>0</th>\n",
       "      <td>16.99</td>\n",
       "      <td>1.01</td>\n",
       "      <td>Female</td>\n",
       "      <td>No</td>\n",
       "      <td>Sun</td>\n",
       "      <td>Dinner</td>\n",
       "      <td>2</td>\n",
       "    </tr>\n",
       "    <tr>\n",
       "      <th>1</th>\n",
       "      <td>10.34</td>\n",
       "      <td>1.66</td>\n",
       "      <td>Male</td>\n",
       "      <td>No</td>\n",
       "      <td>Sun</td>\n",
       "      <td>Dinner</td>\n",
       "      <td>3</td>\n",
       "    </tr>\n",
       "    <tr>\n",
       "      <th>2</th>\n",
       "      <td>21.01</td>\n",
       "      <td>3.50</td>\n",
       "      <td>Male</td>\n",
       "      <td>No</td>\n",
       "      <td>Sun</td>\n",
       "      <td>Dinner</td>\n",
       "      <td>3</td>\n",
       "    </tr>\n",
       "  </tbody>\n",
       "</table>\n",
       "</div>"
      ],
      "text/plain": [
       "   total_bill   tip     sex smoker  day    time  size\n",
       "0       16.99  1.01  Female     No  Sun  Dinner     2\n",
       "1       10.34  1.66    Male     No  Sun  Dinner     3\n",
       "2       21.01  3.50    Male     No  Sun  Dinner     3"
      ]
     },
     "execution_count": 1,
     "metadata": {},
     "output_type": "execute_result"
    }
   ],
   "source": [
    "import pandas as pd\n",
    "import numpy as np\n",
    "print('Pandas version ' + pd.__version__)\n",
    "url = 'https://raw.github.com/pandas-dev/pandas/master/pandas/tests/data/tips.csv'\n",
    "tips = pd.read_csv(url)\n",
    "tips.head(3)"
   ]
  },
  {
   "cell_type": "markdown",
   "metadata": {},
   "source": [
    "# Pandas Dataframe Basic Information\n"
   ]
  },
  {
   "cell_type": "code",
   "execution_count": null,
   "metadata": {
    "collapsed": false
   },
   "outputs": [],
   "source": [
    "print('No of Rows and Columns'+str(tips.shape)+'='+str(tips.size) +' Total number of cells, Using memory' +\n",
    "      str(tips.memory_usage().sum()/1024))\n",
    "#print(tips.memory_usage().sum()/1024)\n",
    "# Column Data type Information\n",
    "#print(tips.dtypes)\n",
    "#Convert Column Data types\n",
    "#tips['sex']            = tips['sex'].astype(str)\n",
    "#tips[['sex','smoker']] = tips[['sex','smoker']].astype(str)\n",
    "\n",
    "# Column Names\n",
    "print(tips.columns)\n",
    "\n",
    "#Memory usage by column\n",
    "print(tips.memory_usage())\n",
    "\n",
    "\n",
    "# Statistics Information for dataframe \n",
    "print('Dataframe Describe')\n",
    "print(tips.describe())\n",
    "\n",
    "# Data frame Information\n",
    "print('Dataframe Info Indexes')\n",
    "tips.info()\n",
    "\n",
    "\n",
    "#Create a new function:\n",
    "def num_missing(x):\n",
    "  return sum(x.isnull())\n",
    "\n",
    "#Applying per column:\n",
    "print (\"Missing values per column:\")\n",
    "print (tips.apply(num_missing, axis=0)) #axis=0 defines that function is to be applied on each column\n",
    "\n",
    "# count number of missing values in each column\n",
    "print(tips.isnull().sum())\n",
    "\n",
    "#Applying per row:\n",
    "print (\"\\nMissing values per row:\")\n",
    "print (tips.apply(num_missing, axis=1).head()) #axis=1 defines that function is to be applied on each row\n",
    "\n",
    "#Gett Unique values in a column\n",
    "#tips['sex'].unique()\n",
    "#Get columns unique counts for each column\n",
    "for x in tips.columns:\n",
    "    print((x,len(tips[x].unique())))\n",
    "    #print((x,(tips[x].unique())))\n",
    "\n",
    "#print(type(list(tips.columns)))\n",
    "#tips.value_counts(tips['sex'].values.ravel())\n",
    "#tips.value_counts()\n",
    "#tips['sex'].count()\n",
    "#tips.value_counts()\n",
    "#dir(tips).describe()\n",
    "# Provides data frame no of rows and columns\n",
    "#tip.shape"
   ]
  },
  {
   "cell_type": "markdown",
   "metadata": {},
   "source": [
    "# Column Selection and Manipulation\n",
    "https://www.shanelynn.ie/select-pandas-dataframe-rows-and-columns-using-iloc-loc-and-ix/"
   ]
  },
  {
   "cell_type": "code",
   "execution_count": null,
   "metadata": {
    "collapsed": false
   },
   "outputs": [],
   "source": [
    "#Display selected columns based on column Display names\n",
    "tips.loc[:,['total_bill','tip']].head(2)"
   ]
  },
  {
   "cell_type": "code",
   "execution_count": null,
   "metadata": {
    "collapsed": false
   },
   "outputs": [],
   "source": [
    "#Gets rows in a given range\n",
    "start_row, end_row=2,6\n",
    "tips[start_row:end_row]"
   ]
  },
  {
   "cell_type": "code",
   "execution_count": null,
   "metadata": {
    "collapsed": false
   },
   "outputs": [],
   "source": [
    "# Select rows and Columns based on integer location\n",
    "start_row, end_row=3,5\n",
    "start_col, end_col=0,2\n",
    "\n",
    "tips.iloc[start_row:end_row,start_col:end_col]\n",
    "#tips.iloc[3:5,0:2]"
   ]
  },
  {
   "cell_type": "code",
   "execution_count": 9,
   "metadata": {
    "collapsed": false
   },
   "outputs": [
    {
     "data": {
      "text/html": [
       "<div>\n",
       "<table border=\"1\" class=\"dataframe\">\n",
       "  <thead>\n",
       "    <tr style=\"text-align: right;\">\n",
       "      <th></th>\n",
       "      <th>sex</th>\n",
       "      <th>smoker</th>\n",
       "      <th>day</th>\n",
       "      <th>time</th>\n",
       "    </tr>\n",
       "  </thead>\n",
       "  <tbody>\n",
       "    <tr>\n",
       "      <th>0</th>\n",
       "      <td>Female</td>\n",
       "      <td>No</td>\n",
       "      <td>Sun</td>\n",
       "      <td>Dinner</td>\n",
       "    </tr>\n",
       "    <tr>\n",
       "      <th>1</th>\n",
       "      <td>Male</td>\n",
       "      <td>No</td>\n",
       "      <td>Sun</td>\n",
       "      <td>Dinner</td>\n",
       "    </tr>\n",
       "  </tbody>\n",
       "</table>\n",
       "</div>"
      ],
      "text/plain": [
       "      sex smoker  day    time\n",
       "0  Female     No  Sun  Dinner\n",
       "1    Male     No  Sun  Dinner"
      ]
     },
     "execution_count": 9,
     "metadata": {},
     "output_type": "execute_result"
    }
   ],
   "source": [
    "# Select Columns  of a certain data type\n",
    "tips.select_dtypes(include=['object']) .head(2)"
   ]
  },
  {
   "cell_type": "markdown",
   "metadata": {},
   "source": [
    "# Categorical Encoding\n",
    "http://pbpython.com/categorical-encoding.html\n",
    "\n",
    "https://github.com/chris1610/pbpython/blob/master/notebooks/Category-Encoding-Article.ipynb"
   ]
  },
  {
   "cell_type": "code",
   "execution_count": 21,
   "metadata": {
    "collapsed": false
   },
   "outputs": [
    {
     "data": {
      "text/html": [
       "<div>\n",
       "<table border=\"1\" class=\"dataframe\">\n",
       "  <thead>\n",
       "    <tr style=\"text-align: right;\">\n",
       "      <th></th>\n",
       "      <th>total_bill</th>\n",
       "      <th>tip</th>\n",
       "      <th>size</th>\n",
       "      <th>sex_no</th>\n",
       "      <th>day_codes</th>\n",
       "      <th>day_no_auto</th>\n",
       "    </tr>\n",
       "  </thead>\n",
       "  <tbody>\n",
       "    <tr>\n",
       "      <th>total_bill</th>\n",
       "      <td>1.000000</td>\n",
       "      <td>0.675734</td>\n",
       "      <td>0.598315</td>\n",
       "      <td>0.144877</td>\n",
       "      <td>0.173693</td>\n",
       "      <td>0.173693</td>\n",
       "    </tr>\n",
       "    <tr>\n",
       "      <th>tip</th>\n",
       "      <td>0.675734</td>\n",
       "      <td>1.000000</td>\n",
       "      <td>0.489299</td>\n",
       "      <td>0.088862</td>\n",
       "      <td>0.135499</td>\n",
       "      <td>0.135499</td>\n",
       "    </tr>\n",
       "    <tr>\n",
       "      <th>size</th>\n",
       "      <td>0.598315</td>\n",
       "      <td>0.489299</td>\n",
       "      <td>1.000000</td>\n",
       "      <td>0.086195</td>\n",
       "      <td>0.165350</td>\n",
       "      <td>0.165350</td>\n",
       "    </tr>\n",
       "    <tr>\n",
       "      <th>sex_no</th>\n",
       "      <td>0.144877</td>\n",
       "      <td>0.088862</td>\n",
       "      <td>0.086195</td>\n",
       "      <td>1.000000</td>\n",
       "      <td>0.230791</td>\n",
       "      <td>0.230791</td>\n",
       "    </tr>\n",
       "    <tr>\n",
       "      <th>day_codes</th>\n",
       "      <td>0.173693</td>\n",
       "      <td>0.135499</td>\n",
       "      <td>0.165350</td>\n",
       "      <td>0.230791</td>\n",
       "      <td>1.000000</td>\n",
       "      <td>1.000000</td>\n",
       "    </tr>\n",
       "    <tr>\n",
       "      <th>day_no_auto</th>\n",
       "      <td>0.173693</td>\n",
       "      <td>0.135499</td>\n",
       "      <td>0.165350</td>\n",
       "      <td>0.230791</td>\n",
       "      <td>1.000000</td>\n",
       "      <td>1.000000</td>\n",
       "    </tr>\n",
       "  </tbody>\n",
       "</table>\n",
       "</div>"
      ],
      "text/plain": [
       "             total_bill       tip      size    sex_no  day_codes  day_no_auto\n",
       "total_bill     1.000000  0.675734  0.598315  0.144877   0.173693     0.173693\n",
       "tip            0.675734  1.000000  0.489299  0.088862   0.135499     0.135499\n",
       "size           0.598315  0.489299  1.000000  0.086195   0.165350     0.165350\n",
       "sex_no         0.144877  0.088862  0.086195  1.000000   0.230791     0.230791\n",
       "day_codes      0.173693  0.135499  0.165350  0.230791   1.000000     1.000000\n",
       "day_no_auto    0.173693  0.135499  0.165350  0.230791   1.000000     1.000000"
      ]
     },
     "execution_count": 21,
     "metadata": {},
     "output_type": "execute_result"
    }
   ],
   "source": [
    "# Manual Categorization with replace statement.\n",
    "tips['sex_no']=tips['sex']\n",
    "tips['day_no']=tips['day']\n",
    "cleanup_nums = {\"sex_no\":     {\"Female\": 0, \"Male\": 1}\n",
    "              , \"day_no\":     {\"Mon\": 0, \"Tue\": 1, \"Wen\":2,\"Thur\":3,\"Fri\":4,\"Sat\":5,\"Sun\":6}}\n",
    "\n",
    "tips.replace(cleanup_nums, inplace=True)\n",
    "\n",
    "#######################################\n",
    "#Automatic Categorization without replace statement\n",
    "\n",
    "tips[\"day_no\"] = tips[\"day_no\"].astype('category')\n",
    "tips[\"day_no_auto\"] = tips[\"day_no\"].cat.codes\n",
    "tips.corr()"
   ]
  },
  {
   "cell_type": "markdown",
   "metadata": {},
   "source": [
    "# Column Rename and DataType Conversion"
   ]
  },
  {
   "cell_type": "code",
   "execution_count": 51,
   "metadata": {
    "collapsed": false
   },
   "outputs": [
    {
     "name": "stdout",
     "output_type": "stream",
     "text": [
      "Index(['day', 'sex', 'size', 'smoker', 'time', 'tip', 'total_bill'], dtype='object')\n",
      "Index(['day', 'sex', 'size', 'smoker', 'time', 'tip', 'Total Bill'], dtype='object')\n",
      "Index(['DAY', 'SEX', 'SIZE', 'SMOKER', 'TIME', 'TIP', 'TOTAL_BILL'], dtype='object')\n",
      "Index(['day', 'sex', 'size', 'smoker', 'time', 'tip', 'total_bill'], dtype='object')\n",
      "Index(['DAY', 'SEX', 'size', 'smoker', 'time', 'tip', 'total_bill'], dtype='object')\n",
      "Index(['day', 'sex', 'size', 'smoker', 'time', 'tip', 'total_bill'], dtype='object')\n"
     ]
    }
   ],
   "source": [
    "# Column  Renames or Aliasing\n",
    "#rename column form total_bill to Total Bill\n",
    "print(tips.columns)\n",
    "tips.rename(columns={'total_bill': 'Total Bill'}, inplace=True); print(tips.columns)\n",
    "\n",
    "tips.rename(columns={'Total Bill': 'total_bill'}, inplace=True)\n",
    "############################################################\n",
    "# Replace spaces with Underscores\n",
    "#tips.columns = tip.columns.str.replace(' ', '_')\n",
    "\n",
    "tips.columns = tips.columns.str.upper() ; print(tips.columns)\n",
    "\n",
    "tips.columns = tips.columns.str.lower() ; print(tips.columns)\n",
    "\n",
    "############################################################\n",
    "# Renaming all the columns for  example converting all of them to upper case \n",
    "tips_original_cols = ['day', 'sex', 'size', 'smoker', 'time', 'tip', 'total_bill']\n",
    "tips_cols = ['DAY', 'SEX', 'size', 'smoker', 'time', 'tip', 'total_bill']\n",
    "\n",
    "tips.columns = tips_cols; print(tips.columns)\n",
    "\n",
    "tips.columns = tips_original_cols ; print(tips.columns)"
   ]
  },
  {
   "cell_type": "code",
   "execution_count": 24,
   "metadata": {
    "collapsed": false
   },
   "outputs": [
    {
     "data": {
      "text/html": [
       "<div>\n",
       "<table border=\"1\" class=\"dataframe\">\n",
       "  <thead>\n",
       "    <tr style=\"text-align: right;\">\n",
       "      <th></th>\n",
       "      <th>total_bill</th>\n",
       "      <th>tip</th>\n",
       "      <th>sex</th>\n",
       "      <th>smoker</th>\n",
       "      <th>day</th>\n",
       "      <th>time</th>\n",
       "      <th>size</th>\n",
       "      <th>day.sum</th>\n",
       "      <th>day.max</th>\n",
       "      <th>tip.max</th>\n",
       "      <th>tip.min</th>\n",
       "      <th>tips.sum</th>\n",
       "    </tr>\n",
       "  </thead>\n",
       "  <tbody>\n",
       "    <tr>\n",
       "      <th>0</th>\n",
       "      <td>16.99</td>\n",
       "      <td>1.01</td>\n",
       "      <td>Female</td>\n",
       "      <td>NO</td>\n",
       "      <td>Sun</td>\n",
       "      <td>Dinner</td>\n",
       "      <td>2</td>\n",
       "      <td>23.95</td>\n",
       "      <td>5.0</td>\n",
       "      <td>5.0</td>\n",
       "      <td>1.01</td>\n",
       "      <td>69.72</td>\n",
       "    </tr>\n",
       "    <tr>\n",
       "      <th>1</th>\n",
       "      <td>10.34</td>\n",
       "      <td>1.66</td>\n",
       "      <td>Male</td>\n",
       "      <td>NO</td>\n",
       "      <td>Sun</td>\n",
       "      <td>Dinner</td>\n",
       "      <td>3</td>\n",
       "      <td>38.07</td>\n",
       "      <td>4.0</td>\n",
       "      <td>4.0</td>\n",
       "      <td>1.66</td>\n",
       "      <td>32.31</td>\n",
       "    </tr>\n",
       "  </tbody>\n",
       "</table>\n",
       "</div>"
      ],
      "text/plain": [
       "   total_bill   tip     sex smoker  day    time  size  day.sum  day.max  \\\n",
       "0       16.99  1.01  Female     NO  Sun  Dinner     2    23.95      5.0   \n",
       "1       10.34  1.66    Male     NO  Sun  Dinner     3    38.07      4.0   \n",
       "\n",
       "   tip.max  tip.min  tips.sum  \n",
       "0      5.0     1.01     69.72  \n",
       "1      4.0     1.66     32.31  "
      ]
     },
     "execution_count": 24,
     "metadata": {},
     "output_type": "execute_result"
    }
   ],
   "source": [
    "#Convert column date to upper case \n",
    "tips['smoker'] = tips['smoker'].apply(lambda x: x.upper());tips.head(2)"
   ]
  },
  {
   "cell_type": "markdown",
   "metadata": {},
   "source": [
    "# Column Creation/ Update"
   ]
  },
  {
   "cell_type": "code",
   "execution_count": 33,
   "metadata": {
    "collapsed": false
   },
   "outputs": [
    {
     "data": {
      "text/html": [
       "<div>\n",
       "<table border=\"1\" class=\"dataframe\">\n",
       "  <thead>\n",
       "    <tr style=\"text-align: right;\">\n",
       "      <th></th>\n",
       "      <th>total_bill</th>\n",
       "      <th>tip</th>\n",
       "      <th>sex</th>\n",
       "      <th>smoker</th>\n",
       "      <th>day</th>\n",
       "      <th>time</th>\n",
       "      <th>size</th>\n",
       "      <th>tips.sum</th>\n",
       "      <th>tip.max</th>\n",
       "      <th>tip.min</th>\n",
       "      <th>tip.mean</th>\n",
       "      <th>tip.std</th>\n",
       "      <th>tip.grt.avg</th>\n",
       "    </tr>\n",
       "  </thead>\n",
       "  <tbody>\n",
       "    <tr>\n",
       "      <th>0</th>\n",
       "      <td>16.99</td>\n",
       "      <td>1.01</td>\n",
       "      <td>Female</td>\n",
       "      <td>No</td>\n",
       "      <td>Sun</td>\n",
       "      <td>Dinner</td>\n",
       "      <td>2</td>\n",
       "      <td>69.72</td>\n",
       "      <td>5.0</td>\n",
       "      <td>1.01</td>\n",
       "      <td>2.582222</td>\n",
       "      <td>0.865969</td>\n",
       "      <td>low</td>\n",
       "    </tr>\n",
       "    <tr>\n",
       "      <th>1</th>\n",
       "      <td>10.34</td>\n",
       "      <td>1.66</td>\n",
       "      <td>Male</td>\n",
       "      <td>No</td>\n",
       "      <td>Sun</td>\n",
       "      <td>Dinner</td>\n",
       "      <td>3</td>\n",
       "      <td>32.31</td>\n",
       "      <td>4.0</td>\n",
       "      <td>1.66</td>\n",
       "      <td>2.937273</td>\n",
       "      <td>0.934121</td>\n",
       "      <td>low</td>\n",
       "    </tr>\n",
       "    <tr>\n",
       "      <th>2</th>\n",
       "      <td>21.01</td>\n",
       "      <td>3.50</td>\n",
       "      <td>Male</td>\n",
       "      <td>No</td>\n",
       "      <td>Sun</td>\n",
       "      <td>Dinner</td>\n",
       "      <td>3</td>\n",
       "      <td>32.31</td>\n",
       "      <td>4.0</td>\n",
       "      <td>1.66</td>\n",
       "      <td>2.937273</td>\n",
       "      <td>0.934121</td>\n",
       "      <td>High</td>\n",
       "    </tr>\n",
       "  </tbody>\n",
       "</table>\n",
       "</div>"
      ],
      "text/plain": [
       "   total_bill   tip     sex smoker  day    time  size  tips.sum  tip.max  \\\n",
       "0       16.99  1.01  Female     No  Sun  Dinner     2     69.72      5.0   \n",
       "1       10.34  1.66    Male     No  Sun  Dinner     3     32.31      4.0   \n",
       "2       21.01  3.50    Male     No  Sun  Dinner     3     32.31      4.0   \n",
       "\n",
       "   tip.min  tip.mean   tip.std tip.grt.avg  \n",
       "0     1.01  2.582222  0.865969         low  \n",
       "1     1.66  2.937273  0.934121         low  \n",
       "2     1.66  2.937273  0.934121        High  "
      ]
     },
     "execution_count": 33,
     "metadata": {},
     "output_type": "execute_result"
    }
   ],
   "source": [
    "#How can I add a column that is equal to the max/sum of a group?¶\n",
    "#apply a function to a group and add the results to my original data frame?\n",
    "group = tips.groupby(['day','time','size','smoker'])['tip']\n",
    "\n",
    "def Summation(x):\n",
    "    return x.sum()\n",
    "\n",
    "tips['tips.sum'] = group.transform(Summation) # Custom function\n",
    "# Python Standard functions\n",
    "tips['tip.max']  = group.transform('max') \n",
    "tips['tip.min']  = group.transform('min') \n",
    "tips['tip.mean'] = group.transform('mean')\n",
    "tips['tip.std']  = group.transform('std')\n",
    "\n",
    "tips[tips['tip']==tips['tip.min']].head(2)\n",
    "#tips[tips['tip']==tips['tip.max']].head(3)\n",
    "\n",
    "\n",
    "# If else condition and column creation/update\n",
    "tips['tip.grt.avg'] = np.where(tips['tip'] > tips['tip.mean'],'high','low')\n",
    "\n",
    "# If condition  update existing columns we ca\n",
    "tips.loc[tips['tip'] > tips['tip.mean'],['tip.grt.avg']] = 'High'\n",
    "\n",
    "tips.head(3)"
   ]
  },
  {
   "cell_type": "markdown",
   "metadata": {},
   "source": [
    "# Distinct Operations"
   ]
  },
  {
   "cell_type": "code",
   "execution_count": 44,
   "metadata": {
    "collapsed": false
   },
   "outputs": [
    {
     "data": {
      "text/html": [
       "<div>\n",
       "<table border=\"1\" class=\"dataframe\">\n",
       "  <thead>\n",
       "    <tr style=\"text-align: right;\">\n",
       "      <th></th>\n",
       "      <th>time</th>\n",
       "      <th>smoker</th>\n",
       "    </tr>\n",
       "  </thead>\n",
       "  <tbody>\n",
       "    <tr>\n",
       "      <th>0</th>\n",
       "      <td>Dinner</td>\n",
       "      <td>No</td>\n",
       "    </tr>\n",
       "    <tr>\n",
       "      <th>56</th>\n",
       "      <td>Dinner</td>\n",
       "      <td>Yes</td>\n",
       "    </tr>\n",
       "    <tr>\n",
       "      <th>77</th>\n",
       "      <td>Lunch</td>\n",
       "      <td>No</td>\n",
       "    </tr>\n",
       "    <tr>\n",
       "      <th>80</th>\n",
       "      <td>Lunch</td>\n",
       "      <td>Yes</td>\n",
       "    </tr>\n",
       "    <tr>\n",
       "      <th>1</th>\n",
       "      <td>NaN</td>\n",
       "      <td>None</td>\n",
       "    </tr>\n",
       "    <tr>\n",
       "      <th>2</th>\n",
       "      <td>Lunch</td>\n",
       "      <td>f</td>\n",
       "    </tr>\n",
       "    <tr>\n",
       "      <th>3</th>\n",
       "      <td>Dinner</td>\n",
       "      <td>m</td>\n",
       "    </tr>\n",
       "  </tbody>\n",
       "</table>\n",
       "</div>"
      ],
      "text/plain": [
       "      time smoker\n",
       "0   Dinner     No\n",
       "56  Dinner    Yes\n",
       "77   Lunch     No\n",
       "80   Lunch    Yes\n",
       "1      NaN   None\n",
       "2    Lunch      f\n",
       "3   Dinner      m"
      ]
     },
     "execution_count": 44,
     "metadata": {},
     "output_type": "execute_result"
    }
   ],
   "source": [
    "#Single Column Distincts \n",
    "tips['time'].unique()\n",
    "#pd.unique(tips.time.ravel())\n",
    "\n",
    "#Multiple Column Distincts\n",
    "tips[['time','smoker']].drop_duplicates(subset=['time','smoker'])\n",
    "\n",
    "# List of distinct values from multiple columns into a single list\n",
    "#np.unique(tips[['time','smoker']])\n",
    "# Reference https://www.linkedin.com/pulse/sql-operations-data-using-python-part-1-simple-select-onyshchenko/\n",
    "\n",
    "# Get Duplicate rows"
   ]
  },
  {
   "cell_type": "markdown",
   "metadata": {},
   "source": [
    "# Indexes : Setting and Resetting"
   ]
  },
  {
   "cell_type": "code",
   "execution_count": null,
   "metadata": {
    "collapsed": true
   },
   "outputs": [],
   "source": [
    "#TODO: Add code for setting and resetting indexes \n",
    "#and how performance will be imporved"
   ]
  },
  {
   "cell_type": "markdown",
   "metadata": {},
   "source": [
    "# Filtering/Where Condition"
   ]
  },
  {
   "cell_type": "code",
   "execution_count": 2,
   "metadata": {
    "collapsed": false
   },
   "outputs": [
    {
     "data": {
      "text/html": [
       "<div>\n",
       "<table border=\"1\" class=\"dataframe\">\n",
       "  <thead>\n",
       "    <tr style=\"text-align: right;\">\n",
       "      <th></th>\n",
       "      <th>total_bill</th>\n",
       "      <th>tip</th>\n",
       "      <th>sex</th>\n",
       "      <th>smoker</th>\n",
       "      <th>day</th>\n",
       "      <th>time</th>\n",
       "      <th>size</th>\n",
       "    </tr>\n",
       "  </thead>\n",
       "  <tbody>\n",
       "    <tr>\n",
       "      <th>170</th>\n",
       "      <td>50.81</td>\n",
       "      <td>10.0</td>\n",
       "      <td>Male</td>\n",
       "      <td>Yes</td>\n",
       "      <td>Sat</td>\n",
       "      <td>Dinner</td>\n",
       "      <td>3</td>\n",
       "    </tr>\n",
       "  </tbody>\n",
       "</table>\n",
       "</div>"
      ],
      "text/plain": [
       "     total_bill   tip   sex smoker  day    time  size\n",
       "170       50.81  10.0  Male    Yes  Sat  Dinner     3"
      ]
     },
     "execution_count": 2,
     "metadata": {},
     "output_type": "execute_result"
    }
   ],
   "source": [
    "# To get first 6 rows in  dataframe\n",
    "tips.head(6) #.tail(5) last 5 rows\n",
    "\n",
    "#Selecting columns from a data frame and only first 5 rows\n",
    "tips[['total_bill', 'tip', 'smoker', 'time']].head(5)\n",
    "\n",
    "#Selecting columns which fit a particular criteria from a data frame and only top5 rows\n",
    "tips[tips['time'] == 'Dinner'][['total_bill', 'tip', 'smoker', 'time']].head(5)\n",
    "\n",
    "#Selecting columnswhich fit a particular criteria with multiple conditions from a data frame and only top5 rows\n",
    "tips[['total_bill', 'tip', 'smoker', 'time']].head(5)\n",
    "\n",
    "#TODO: Like Conditions\n",
    "#https://pandas.pydata.org/pandas-docs/stable/api.html#string-handling\n",
    "#tips[tips['time'].str.endswith(\"r\")]\n",
    "tips[tips['time'].str.contains(\"inn\")]\n",
    "\n",
    "#TODO : in condition and not in conditions.\n",
    "day=['Sun','Sat']\n",
    "tips[tips['day'].isin(day)]\n",
    "\n",
    "# Not in Condition\n",
    "tips[~tips['day'].isin(day)] .head(2)\n",
    "\n",
    "tips[tips['tip']==tips['tip'].max()]\n",
    "\n",
    "# Alternative version of above with column selection\n",
    "tips.loc[tips['tip']==tips['tip'].max(), ['total_bill', 'tip', 'smoker', 'time']]\n",
    "\n",
    "\n",
    "#TODO : How to get max tips by sex and smoker type"
   ]
  },
  {
   "cell_type": "markdown",
   "metadata": {},
   "source": [
    "# Missing Data\n",
    "http://www.ritchieng.com/pandas-handling-missing-values/\n",
    "\n",
    "http://pandas.pydata.org/pandas-docs/version/0.15.2/missing_data.html#filling-missing-values-fillna"
   ]
  },
  {
   "cell_type": "code",
   "execution_count": 33,
   "metadata": {
    "collapsed": false
   },
   "outputs": [
    {
     "data": {
      "text/html": [
       "<div>\n",
       "<table border=\"1\" class=\"dataframe\">\n",
       "  <thead>\n",
       "    <tr style=\"text-align: right;\">\n",
       "      <th></th>\n",
       "      <th>day</th>\n",
       "      <th>sex</th>\n",
       "      <th>size</th>\n",
       "      <th>smoker</th>\n",
       "      <th>time</th>\n",
       "      <th>tip</th>\n",
       "      <th>total_bill</th>\n",
       "    </tr>\n",
       "  </thead>\n",
       "  <tbody>\n",
       "    <tr>\n",
       "      <th>0</th>\n",
       "      <td>Mon</td>\n",
       "      <td>Male</td>\n",
       "      <td>2.0</td>\n",
       "      <td>Yes</td>\n",
       "      <td>Dinner</td>\n",
       "      <td>1.0</td>\n",
       "      <td>52.0</td>\n",
       "    </tr>\n",
       "    <tr>\n",
       "      <th>1</th>\n",
       "      <td>NaN</td>\n",
       "      <td>None</td>\n",
       "      <td>NaN</td>\n",
       "      <td>None</td>\n",
       "      <td>NaN</td>\n",
       "      <td>NaN</td>\n",
       "      <td>NaN</td>\n",
       "    </tr>\n",
       "    <tr>\n",
       "      <th>2</th>\n",
       "      <td>NaN</td>\n",
       "      <td>Female</td>\n",
       "      <td>NaN</td>\n",
       "      <td>f</td>\n",
       "      <td>Lunch</td>\n",
       "      <td>0.5</td>\n",
       "      <td>9.0</td>\n",
       "    </tr>\n",
       "    <tr>\n",
       "      <th>3</th>\n",
       "      <td>Fri</td>\n",
       "      <td>Male</td>\n",
       "      <td>62.0</td>\n",
       "      <td>m</td>\n",
       "      <td>Dinner</td>\n",
       "      <td>NaN</td>\n",
       "      <td>10.0</td>\n",
       "    </tr>\n",
       "    <tr>\n",
       "      <th>4</th>\n",
       "      <td>Sun</td>\n",
       "      <td>Female</td>\n",
       "      <td>25.0</td>\n",
       "      <td>f</td>\n",
       "      <td>Lunch</td>\n",
       "      <td>20.0</td>\n",
       "      <td>100.0</td>\n",
       "    </tr>\n",
       "  </tbody>\n",
       "</table>\n",
       "</div>"
      ],
      "text/plain": [
       "   day     sex  size smoker    time   tip  total_bill\n",
       "0  Mon    Male   2.0    Yes  Dinner   1.0        52.0\n",
       "1  NaN    None   NaN   None     NaN   NaN         NaN\n",
       "2  NaN  Female   NaN      f   Lunch   0.5         9.0\n",
       "3  Fri    Male  62.0      m  Dinner   NaN        10.0\n",
       "4  Sun  Female  25.0      f   Lunch  20.0       100.0"
      ]
     },
     "execution_count": 33,
     "metadata": {},
     "output_type": "execute_result"
    }
   ],
   "source": [
    "missing_data = {  'total_bill': [52, np.nan, 9, 10, 100]\n",
    "            , 'tip'       : [1, np.nan, .5,np.nan , 20]\n",
    "            , 'sex'       : ['Male', None, 'Female', 'Male', 'Female']\n",
    "            , 'smoker'    : ['Yes', None, 'f', 'm', 'f'] \n",
    "            , 'day'       : ['Mon', np.nan, np.nan, 'Fri', 'Sun']\n",
    "            , 'time'      : ['Dinner', np.nan, 'Lunch', 'Dinner', 'Lunch']\n",
    "            , 'size'      : [2, np.nan, np.nan, 62, 25]\n",
    "           }\n",
    "print(tips.shape)\n",
    "tips =pd.concat([tips,pd.DataFrame(missing_data)])\n",
    "print(tips.shape)\n",
    "\n",
    "tips.tail()"
   ]
  },
  {
   "cell_type": "markdown",
   "metadata": {},
   "source": [
    "### Where  conditions"
   ]
  },
  {
   "cell_type": "code",
   "execution_count": 43,
   "metadata": {
    "collapsed": false
   },
   "outputs": [
    {
     "name": "stdout",
     "output_type": "stream",
     "text": [
      "(264, 7)\n"
     ]
    },
    {
     "data": {
      "text/html": [
       "<div>\n",
       "<table border=\"1\" class=\"dataframe\">\n",
       "  <thead>\n",
       "    <tr style=\"text-align: right;\">\n",
       "      <th></th>\n",
       "      <th>tip</th>\n",
       "      <th>total_bill</th>\n",
       "    </tr>\n",
       "  </thead>\n",
       "  <tbody>\n",
       "    <tr>\n",
       "      <th>0</th>\n",
       "      <td>1.01</td>\n",
       "      <td>16.99</td>\n",
       "    </tr>\n",
       "    <tr>\n",
       "      <th>1</th>\n",
       "      <td>1.66</td>\n",
       "      <td>10.34</td>\n",
       "    </tr>\n",
       "    <tr>\n",
       "      <th>2</th>\n",
       "      <td>3.50</td>\n",
       "      <td>21.01</td>\n",
       "    </tr>\n",
       "  </tbody>\n",
       "</table>\n",
       "</div>"
      ],
      "text/plain": [
       "    tip  total_bill\n",
       "0  1.01       16.99\n",
       "1  1.66       10.34\n",
       "2  3.50       21.01"
      ]
     },
     "execution_count": 43,
     "metadata": {},
     "output_type": "execute_result"
    }
   ],
   "source": [
    "# count number of missing values in each column\n",
    "tips.isnull().sum()\n",
    "\n",
    "# look for rows with missing values in a particular column   \n",
    "# Note below is null has not worked \n",
    "tips[tips['total_bill'].isnull()]\n",
    "\n",
    "# look for rows with no missing values in a particular column \n",
    "tips[tips['smoker'].notnull()].head(4)\n",
    "\n",
    "#Display selective columns only when displaying data\n",
    "tips[tips['time'].notnull()][['tip','total_bill']].head(3)"
   ]
  },
  {
   "cell_type": "markdown",
   "metadata": {},
   "source": [
    "### Drop Missing Data"
   ]
  },
  {
   "cell_type": "code",
   "execution_count": null,
   "metadata": {
    "collapsed": true
   },
   "outputs": [],
   "source": [
    "print(tips.shape)\n",
    "\n",
    "# drop rows if any of the columns have a missing value\n",
    "tips.dropna(how='any').shape\n",
    "print(tips.shape)\n",
    "\n",
    "# drop row if either column tip or sex reported are missing\n",
    "tips.dropna(subset=['tip', 'sex'],how='any').shape\n",
    "\n",
    "# drop row if all of the columns are missing\n",
    "tips.dropna(how='all').shape\n",
    "print(tips.shape)\n",
    "\n",
    "# drop row if both tip or sex reported are missing\n",
    "tips.dropna(subset=['tip', 'sex'], how='all').shape\n",
    "\n",
    "subset=['City', 'Shape Reported'],"
   ]
  },
  {
   "cell_type": "markdown",
   "metadata": {},
   "source": [
    "### Filling Missing Data"
   ]
  },
  {
   "cell_type": "code",
   "execution_count": null,
   "metadata": {
    "collapsed": true
   },
   "outputs": [],
   "source": [
    "## TODO : NVL vs fillna ( Bfill, ffill)"
   ]
  },
  {
   "cell_type": "markdown",
   "metadata": {},
   "source": [
    "# Sorting Data"
   ]
  },
  {
   "cell_type": "code",
   "execution_count": null,
   "metadata": {
    "collapsed": true
   },
   "outputs": [],
   "source": [
    "tip."
   ]
  },
  {
   "cell_type": "markdown",
   "metadata": {},
   "source": [
    "# Pivot and Pivot Table\n",
    "\n",
    "Below is a good article for differrence between Pivot and Pivot_table\n",
    "#http://nikgrozev.com/2015/07/01/reshaping-in-pandas-pivot-pivot-table-stack-and-unstack-explained-with-pictures/\n",
    "\n",
    "TODO: drop levels in pandas"
   ]
  },
  {
   "cell_type": "code",
   "execution_count": 1,
   "metadata": {
    "collapsed": false
   },
   "outputs": [
    {
     "data": {
      "text/html": [
       "<div>\n",
       "<table border=\"1\" class=\"dataframe\">\n",
       "  <thead>\n",
       "    <tr style=\"text-align: right;\">\n",
       "      <th></th>\n",
       "      <th>Item</th>\n",
       "      <th>CType</th>\n",
       "      <th>USD</th>\n",
       "      <th>EU</th>\n",
       "    </tr>\n",
       "  </thead>\n",
       "  <tbody>\n",
       "    <tr>\n",
       "      <th>0</th>\n",
       "      <td>Item0</td>\n",
       "      <td>Gold</td>\n",
       "      <td>1$</td>\n",
       "      <td>1€</td>\n",
       "    </tr>\n",
       "    <tr>\n",
       "      <th>1</th>\n",
       "      <td>Item0</td>\n",
       "      <td>Bronze</td>\n",
       "      <td>2$</td>\n",
       "      <td>2€</td>\n",
       "    </tr>\n",
       "    <tr>\n",
       "      <th>2</th>\n",
       "      <td>Item1</td>\n",
       "      <td>Gold</td>\n",
       "      <td>3$</td>\n",
       "      <td>3€</td>\n",
       "    </tr>\n",
       "    <tr>\n",
       "      <th>3</th>\n",
       "      <td>Item1</td>\n",
       "      <td>Silver</td>\n",
       "      <td>4$</td>\n",
       "      <td>4€</td>\n",
       "    </tr>\n",
       "  </tbody>\n",
       "</table>\n",
       "</div>"
      ],
      "text/plain": [
       "    Item   CType USD  EU\n",
       "0  Item0    Gold  1$  1€\n",
       "1  Item0  Bronze  2$  2€\n",
       "2  Item1    Gold  3$  3€\n",
       "3  Item1  Silver  4$  4€"
      ]
     },
     "execution_count": 1,
     "metadata": {},
     "output_type": "execute_result"
    }
   ],
   "source": [
    "from collections import OrderedDict\n",
    "from pandas import DataFrame\n",
    "import pandas as pd,numpy as np\n",
    "\n",
    "table = OrderedDict((\n",
    "    (\"Item\", ['Item0', 'Item0', 'Item1', 'Item1']),\n",
    "    ('CType',['Gold', 'Bronze', 'Gold', 'Silver']),\n",
    "    ('USD',  ['1$', '2$', '3$', '4$']),\n",
    "    ('EU',   ['1€', '2€', '3€', '4€'])\n",
    "))\n",
    "d = DataFrame(table)\n",
    "d.head(10)"
   ]
  },
  {
   "cell_type": "code",
   "execution_count": 3,
   "metadata": {
    "collapsed": false
   },
   "outputs": [
    {
     "data": {
      "text/html": [
       "<div>\n",
       "<table border=\"1\" class=\"dataframe\">\n",
       "  <thead>\n",
       "    <tr style=\"text-align: right;\">\n",
       "      <th>CType</th>\n",
       "      <th>Bronze</th>\n",
       "      <th>Gold</th>\n",
       "      <th>Silver</th>\n",
       "    </tr>\n",
       "    <tr>\n",
       "      <th>Item</th>\n",
       "      <th></th>\n",
       "      <th></th>\n",
       "      <th></th>\n",
       "    </tr>\n",
       "  </thead>\n",
       "  <tbody>\n",
       "    <tr>\n",
       "      <th>Item0</th>\n",
       "      <td>2$</td>\n",
       "      <td>1$</td>\n",
       "      <td>None</td>\n",
       "    </tr>\n",
       "    <tr>\n",
       "      <th>Item1</th>\n",
       "      <td>None</td>\n",
       "      <td>3$</td>\n",
       "      <td>4$</td>\n",
       "    </tr>\n",
       "  </tbody>\n",
       "</table>\n",
       "</div>"
      ],
      "text/plain": [
       "CType Bronze Gold Silver\n",
       "Item                    \n",
       "Item0     2$   1$   None\n",
       "Item1   None   3$     4$"
      ]
     },
     "execution_count": 3,
     "metadata": {},
     "output_type": "execute_result"
    }
   ],
   "source": [
    "#Pivot Table\n",
    "#tips.pivot_table(index='day', columns='sex', values='tip',aggfunc=np.average)\n",
    "p = d.pivot(index='Item', columns='CType', values='USD')\n",
    "p.head(10)"
   ]
  },
  {
   "cell_type": "code",
   "execution_count": 10,
   "metadata": {
    "collapsed": false
   },
   "outputs": [
    {
     "data": {
      "text/html": [
       "<div>\n",
       "<table border=\"1\" class=\"dataframe\">\n",
       "  <thead>\n",
       "    <tr>\n",
       "      <th></th>\n",
       "      <th colspan=\"3\" halign=\"left\">USD</th>\n",
       "      <th colspan=\"3\" halign=\"left\">EU</th>\n",
       "    </tr>\n",
       "    <tr>\n",
       "      <th>CType</th>\n",
       "      <th>Bronze</th>\n",
       "      <th>Gold</th>\n",
       "      <th>Silver</th>\n",
       "      <th>Bronze</th>\n",
       "      <th>Gold</th>\n",
       "      <th>Silver</th>\n",
       "    </tr>\n",
       "    <tr>\n",
       "      <th>Item</th>\n",
       "      <th></th>\n",
       "      <th></th>\n",
       "      <th></th>\n",
       "      <th></th>\n",
       "      <th></th>\n",
       "      <th></th>\n",
       "    </tr>\n",
       "  </thead>\n",
       "  <tbody>\n",
       "    <tr>\n",
       "      <th>Item0</th>\n",
       "      <td>2$</td>\n",
       "      <td>1$</td>\n",
       "      <td>None</td>\n",
       "      <td>2€</td>\n",
       "      <td>1€</td>\n",
       "      <td>None</td>\n",
       "    </tr>\n",
       "    <tr>\n",
       "      <th>Item1</th>\n",
       "      <td>None</td>\n",
       "      <td>3$</td>\n",
       "      <td>4$</td>\n",
       "      <td>None</td>\n",
       "      <td>3€</td>\n",
       "      <td>4€</td>\n",
       "    </tr>\n",
       "  </tbody>\n",
       "</table>\n",
       "</div>"
      ],
      "text/plain": [
       "         USD                 EU            \n",
       "CType Bronze Gold Silver Bronze Gold Silver\n",
       "Item                                       \n",
       "Item0     2$   1$   None     2€   1€   None\n",
       "Item1   None   3$     4$   None   3€     4€"
      ]
     },
     "execution_count": 10,
     "metadata": {},
     "output_type": "execute_result"
    }
   ],
   "source": [
    "p = d.pivot(index='Item'\n",
    "            , columns='CType'); p"
   ]
  },
  {
   "cell_type": "markdown",
   "metadata": {},
   "source": [
    "### Pivot Sorting values"
   ]
  },
  {
   "cell_type": "code",
   "execution_count": null,
   "metadata": {
    "collapsed": false
   },
   "outputs": [],
   "source": [
    "p.sort_values(by=('USD','Gold'), ascending=False,inplace=True)\n",
    "p"
   ]
  },
  {
   "cell_type": "markdown",
   "metadata": {},
   "source": [
    "### Pivot Dataframe column Selection"
   ]
  },
  {
   "cell_type": "code",
   "execution_count": 6,
   "metadata": {
    "collapsed": false
   },
   "outputs": [
    {
     "data": {
      "text/plain": [
       "Item\n",
       "Item0      2$\n",
       "Item1    None\n",
       "Name: (USD, Bronze), dtype: object"
      ]
     },
     "execution_count": 6,
     "metadata": {},
     "output_type": "execute_result"
    }
   ],
   "source": [
    "# Select colums USD\n",
    "p['USD']\n",
    "\n",
    "# Select column Bronze under USD\n",
    "p['USD']['Bronze']\n",
    "# Alternative dynamic way of selection columns \n",
    "p[('USD','Bronze')]"
   ]
  },
  {
   "cell_type": "markdown",
   "metadata": {},
   "source": [
    "### Pivot Data frame Row selection"
   ]
  },
  {
   "cell_type": "code",
   "execution_count": 19,
   "metadata": {
    "collapsed": false
   },
   "outputs": [
    {
     "data": {
      "text/plain": [
       "Item\n",
       "Item0    2$\n",
       "Name: (USD, Bronze), dtype: object"
      ]
     },
     "execution_count": 19,
     "metadata": {},
     "output_type": "execute_result"
    }
   ],
   "source": [
    "#Selecting Item0 Row\n",
    "p.loc[(p.index.get_level_values('Item') == 'Item0')]\n",
    "\n",
    "#Selecting Item0 Row and particular column upto second level\n",
    "p.loc[(p.index.get_level_values('Item') == 'Item0')][('USD','Bronze')]\n",
    "\n",
    "# Selecting Rows from pivoted table\n",
    "# Original DataFrame: Access the USD cost of Item0 for Gold customers\n",
    "#print (d[(d.Item=='Item0') & (d.CType=='Gold')].USD.values)\n",
    "\n",
    "# Pivoted DataFrame: Access the USD cost of Item0 for Gold customers\n",
    "#print (p[p.index=='Item0'].Gold.values)"
   ]
  },
  {
   "cell_type": "code",
   "execution_count": 23,
   "metadata": {
    "collapsed": false
   },
   "outputs": [
    {
     "data": {
      "text/html": [
       "<div>\n",
       "<table border=\"1\" class=\"dataframe\">\n",
       "  <thead>\n",
       "    <tr style=\"text-align: right;\">\n",
       "      <th>CType</th>\n",
       "      <th>Bronze</th>\n",
       "      <th>Gold</th>\n",
       "      <th>Silver</th>\n",
       "    </tr>\n",
       "    <tr>\n",
       "      <th>Item</th>\n",
       "      <th></th>\n",
       "      <th></th>\n",
       "      <th></th>\n",
       "    </tr>\n",
       "  </thead>\n",
       "  <tbody>\n",
       "    <tr>\n",
       "      <th>Item0</th>\n",
       "      <td>2$</td>\n",
       "      <td>1$</td>\n",
       "      <td>None</td>\n",
       "    </tr>\n",
       "    <tr>\n",
       "      <th>Item1</th>\n",
       "      <td>None</td>\n",
       "      <td>3$</td>\n",
       "      <td>4$</td>\n",
       "    </tr>\n",
       "  </tbody>\n",
       "</table>\n",
       "</div>"
      ],
      "text/plain": [
       "CType Bronze Gold Silver\n",
       "Item                    \n",
       "Item0     2$   1$   None\n",
       "Item1   None   3$     4$"
      ]
     },
     "execution_count": 23,
     "metadata": {},
     "output_type": "execute_result"
    }
   ],
   "source": [
    "pivot_table = d.pivot_table(index='Item'\n",
    "                            , columns='CType'\n",
    "                            , values='USD'\n",
    "                            , aggfunc=np.min); pivot_table"
   ]
  },
  {
   "cell_type": "code",
   "execution_count": 28,
   "metadata": {
    "collapsed": false
   },
   "outputs": [
    {
     "data": {
      "text/html": [
       "<div>\n",
       "<table border=\"1\" class=\"dataframe\">\n",
       "  <thead>\n",
       "    <tr style=\"text-align: right;\">\n",
       "      <th>CType</th>\n",
       "      <th>Bronze</th>\n",
       "      <th>Gold</th>\n",
       "      <th>Silver</th>\n",
       "      <th>All</th>\n",
       "    </tr>\n",
       "    <tr>\n",
       "      <th>Item</th>\n",
       "      <th></th>\n",
       "      <th></th>\n",
       "      <th></th>\n",
       "      <th></th>\n",
       "    </tr>\n",
       "  </thead>\n",
       "  <tbody>\n",
       "    <tr>\n",
       "      <th>Item0</th>\n",
       "      <td>2$</td>\n",
       "      <td>1$</td>\n",
       "      <td>0</td>\n",
       "      <td>1$</td>\n",
       "    </tr>\n",
       "    <tr>\n",
       "      <th>Item1</th>\n",
       "      <td>0</td>\n",
       "      <td>3$</td>\n",
       "      <td>4$</td>\n",
       "      <td>3$</td>\n",
       "    </tr>\n",
       "    <tr>\n",
       "      <th>All</th>\n",
       "      <td>2$</td>\n",
       "      <td>1$</td>\n",
       "      <td>4$</td>\n",
       "      <td>1$</td>\n",
       "    </tr>\n",
       "  </tbody>\n",
       "</table>\n",
       "</div>"
      ],
      "text/plain": [
       "CType Bronze Gold Silver All\n",
       "Item                        \n",
       "Item0     2$   1$      0  1$\n",
       "Item1      0   3$     4$  3$\n",
       "All       2$   1$     4$  1$"
      ]
     },
     "execution_count": 28,
     "metadata": {},
     "output_type": "execute_result"
    }
   ],
   "source": [
    "pivot_table = d.pivot_table(index='Item'\n",
    "                            , columns='CType'\n",
    "                            , values='USD'\n",
    "                            , aggfunc=np.min\n",
    "                           , fill_value=0\n",
    "                           , margins  = True); pivot_table\n",
    "\n",
    "# margin values are based on aggregate function"
   ]
  },
  {
   "cell_type": "markdown",
   "metadata": {},
   "source": [
    "# Group BY"
   ]
  },
  {
   "cell_type": "code",
   "execution_count": null,
   "metadata": {
    "collapsed": false
   },
   "outputs": [],
   "source": [
    "#Aggregation\n",
    "#http://www.shanelynn.ie/summarising-aggregation-and-grouping-data-in-python-pandas/\n",
    "tips.agg({'smoker' : ['sum', 'min'], 'day' : ['min', 'max']})\n",
    "\n",
    "#Multi column Aggregation\n",
    "#tips.groupby('day').agg({'tip': np.mean, 'day': np.size})\n",
    "\n",
    "# multi aggregation  and agg values can be passed as dictionary value and size is equivalent to count* in sql\n",
    "#tips.groupby(['smoker', 'day']).agg({'tip': [np.size, np.mean]})\n",
    "tips.groupby(['smoker', 'day']).agg({'tip': {\"tip_size\":np.size, \"tip_mean\":np.mean}})\n",
    "\n",
    "\n",
    "#Average/ Mean of tips by sex\n",
    "#tips.groupby('sex')['tip'].mean()"
   ]
  },
  {
   "cell_type": "markdown",
   "metadata": {},
   "source": [
    "<img src=\"pandas_aggregation-768x307.png\">"
   ]
  },
  {
   "cell_type": "markdown",
   "metadata": {},
   "source": [
    "# Group by & Where\n",
    "Reference \n",
    "http://nbviewer.jupyter.org/urls/bitbucket.org/hrojas/learn-pandas/raw/master/lessons/Cookbook%20-%20Compute.ipynb"
   ]
  },
  {
   "cell_type": "code",
   "execution_count": null,
   "metadata": {
    "collapsed": true
   },
   "outputs": [],
   "source": []
  },
  {
   "cell_type": "code",
   "execution_count": null,
   "metadata": {
    "collapsed": true
   },
   "outputs": [],
   "source": []
  },
  {
   "cell_type": "markdown",
   "metadata": {},
   "source": [
    "# Join & Merges"
   ]
  },
  {
   "cell_type": "code",
   "execution_count": null,
   "metadata": {
    "collapsed": true
   },
   "outputs": [],
   "source": [
    "#https://pandas.pydata.org/pandas-docs/stable/merging.html\n",
    "#https://chrisalbon.com/python/pandas_join_merge_dataframe.html"
   ]
  },
  {
   "cell_type": "code",
   "execution_count": null,
   "metadata": {
    "collapsed": true
   },
   "outputs": [],
   "source": [
    "#Joins \n",
    "df1 = pd.DataFrame({'key': ['A', 'B', 'C', 'D'],\n",
    "                       'value': np.random.randn(4)})\n",
    "df2 = pd.DataFrame({'key': ['B', 'D', 'D', 'E'],\n",
    "                       'value': np.random.randn(4)})\n",
    "\n",
    "# merge performs an INNER JOIN by default\n",
    "pd.merge(df1, df2, on='key')\n",
    "\n",
    "# show all records from df1\n",
    "pd.merge(df1, df2, on='key', how='left')\n",
    "\n",
    "# show all records from df2\n",
    "pd.merge(df1, df2, on='key', how='right')\n",
    "\n",
    "# show all records from both frames\n",
    "\n",
    "pd.merge(df1, df2, on='key', how='outer')\n",
    "\n",
    "\n",
    "# Left Join with differrent column names \n",
    "#result = pd.merge(df_heat_orignation, df_heat_batch_status_sum, how='left', left_on=['HEAT'], right_on=['HEAT_NO'])\n",
    "\n",
    "\n"
   ]
  },
  {
   "cell_type": "markdown",
   "metadata": {},
   "source": [
    "# Sort and Rank"
   ]
  },
  {
   "cell_type": "code",
   "execution_count": null,
   "metadata": {
    "collapsed": false
   },
   "outputs": [],
   "source": [
    "#Row number in sql and sort by rownumber with in a group\n",
    "(tips.assign(rn=tips.sort_values(['total_bill'], ascending=False)\n",
    "                       .groupby(['day'])\n",
    "                       .cumcount() + 1)\n",
    "        .query('rn < 3')\n",
    "         .sort_values(['day','rn'])\n",
    " )\n",
    "\n",
    "#another way of doing ranking .\n",
    "(tips.assign(rnk=tips.groupby(['day'])['total_bill']\n",
    "                        .rank(method='first', ascending=False))\n",
    "       .query('rnk < 3')\n",
    "        .sort_values(['day','rnk'])\n",
    "    )"
   ]
  },
  {
   "cell_type": "code",
   "execution_count": null,
   "metadata": {
    "collapsed": false
   },
   "outputs": [],
   "source": [
    "# Sort values by biggest tip and then by size.\n",
    "tips.sort_values(by=['tip','size'],ascending=[False,False])\n",
    "\n",
    "# Inplace True ensures dataframe is sorted permanently\n",
    "tips.sort_values(by=['tip','size'],ascending=[False,False],inplace=True)\n",
    "\n"
   ]
  },
  {
   "cell_type": "code",
   "execution_count": null,
   "metadata": {
    "collapsed": false
   },
   "outputs": [],
   "source": [
    "tips.head()"
   ]
  },
  {
   "cell_type": "code",
   "execution_count": null,
   "metadata": {
    "collapsed": false
   },
   "outputs": [],
   "source": [
    "\n",
    "#Data frame to Json\n",
    "x=np.random.randn(5,2)\n",
    "type(x)\n"
   ]
  },
  {
   "cell_type": "code",
   "execution_count": null,
   "metadata": {
    "collapsed": true
   },
   "outputs": [],
   "source": [
    "# Fill missing values \n",
    "#https://pandas.pydata.org/pandas-docs/stable/generated/pandas.DataFrame.fillna.html\n",
    "#https://pandas.pydata.org/pandas-docs/stable/generated/pandas.core.groupby.DataFrameGroupBy.fillna.html\n",
    "df = pd.DataFrame([  [1, 2, 3]\n",
    "                   , [4, None, None]\n",
    "                   , [None, None, 9]])\n",
    "#df.head()\n",
    "df.fillna(method='ffill', inplace=True))\n",
    "df.head()"
   ]
  },
  {
   "cell_type": "code",
   "execution_count": null,
   "metadata": {
    "collapsed": false
   },
   "outputs": [],
   "source": [
    "\n",
    "#reference :https://stackoverflow.com/questions/27905295/how-to-replace-nans-by-preceding-values-in-pandas-dataframe\n",
    "example = pd.DataFrame({'number':[0,1,2,None,4,None,None,7,8,9],'name':list('aaabbbcccc')})\n",
    "example.head(20)\n"
   ]
  },
  {
   "cell_type": "code",
   "execution_count": null,
   "metadata": {
    "collapsed": false
   },
   "outputs": [],
   "source": [
    "example.groupby('name')['number'].fillna(method='ffill') # fill in row 5 but not row 3"
   ]
  },
  {
   "cell_type": "code",
   "execution_count": null,
   "metadata": {
    "collapsed": true
   },
   "outputs": [],
   "source": [
    "#Reference \n",
    "#http://www.shanelynn.ie/analysis-of-weather-data-using-pandas-python-and-seaborn/\n",
    "#http://pandas.pydata.org/pandas-docs/stable/groupby.html#iterating-through-groups\n",
    "#http://altons.github.io/python/2013/01/21/gentle-introduction-to-mongodb-using-pymongo/\n",
    "#https://www.analyticsvidhya.com/blog/2016/01/12-pandas-techniques-python-data-manipulation/"
   ]
  },
  {
   "cell_type": "markdown",
   "metadata": {},
   "source": [
    "# Statistical Info"
   ]
  },
  {
   "cell_type": "code",
   "execution_count": null,
   "metadata": {
    "collapsed": true
   },
   "outputs": [],
   "source": [
    "#tips.describe()\n",
    "import seaborn as sns\n",
    "%matplotlib inline\n",
    "sns.set(style=\"white\")\n",
    "corr=tips.corr()\n",
    "\n",
    "#The range of the correlation coefficient is from -1 to 1. \n",
    "# Correlations are not generated for object data types\n",
    "corr\n",
    "sns.heatmap(corr, \n",
    "        xticklabels=corr.columns,\n",
    "        yticklabels=corr.columns)"
   ]
  },
  {
   "cell_type": "markdown",
   "metadata": {},
   "source": [
    "# STYLING\n",
    "https://pandas.pydata.org/pandas-docs/stable/style.html"
   ]
  },
  {
   "cell_type": "code",
   "execution_count": null,
   "metadata": {
    "collapsed": true
   },
   "outputs": [],
   "source": [
    "import pandas as pd\n",
    "import numpy as np\n",
    "\n",
    "np.random.seed(24)\n",
    "df = pd.DataFrame({'A': np.linspace(1, 10, 10)})\n",
    "df = pd.concat([df, pd.DataFrame(np.random.randn(10, 4), columns=list('BCDE'))],\n",
    "               axis=1)\n",
    "df.iloc[0, 2] = np.nan\n",
    "df"
   ]
  },
  {
   "cell_type": "code",
   "execution_count": null,
   "metadata": {
    "collapsed": true
   },
   "outputs": [],
   "source": [
    "df.style"
   ]
  },
  {
   "cell_type": "code",
   "execution_count": 5,
   "metadata": {
    "collapsed": false
   },
   "outputs": [
    {
     "name": "stdout",
     "output_type": "stream",
     "text": [
      "<class 'list'>\n"
     ]
    },
    {
     "data": {
      "text/html": [
       "<div>\n",
       "<table border=\"1\" class=\"dataframe\">\n",
       "  <thead>\n",
       "    <tr style=\"text-align: right;\">\n",
       "      <th></th>\n",
       "      <th>name</th>\n",
       "      <th>population</th>\n",
       "      <th>state</th>\n",
       "      <th>shortname</th>\n",
       "      <th>info.governor</th>\n",
       "    </tr>\n",
       "  </thead>\n",
       "  <tbody>\n",
       "    <tr>\n",
       "      <th>0</th>\n",
       "      <td>Dade</td>\n",
       "      <td>12345</td>\n",
       "      <td>Florida</td>\n",
       "      <td>FL</td>\n",
       "      <td>Rick Scott</td>\n",
       "    </tr>\n",
       "    <tr>\n",
       "      <th>1</th>\n",
       "      <td>Broward</td>\n",
       "      <td>40000</td>\n",
       "      <td>Florida</td>\n",
       "      <td>FL</td>\n",
       "      <td>Rick Scott</td>\n",
       "    </tr>\n",
       "    <tr>\n",
       "      <th>2</th>\n",
       "      <td>Palm Beach</td>\n",
       "      <td>60000</td>\n",
       "      <td>Florida</td>\n",
       "      <td>FL</td>\n",
       "      <td>Rick Scott</td>\n",
       "    </tr>\n",
       "    <tr>\n",
       "      <th>3</th>\n",
       "      <td>Summit</td>\n",
       "      <td>1234</td>\n",
       "      <td>Ohio</td>\n",
       "      <td>OH</td>\n",
       "      <td>John Kasich</td>\n",
       "    </tr>\n",
       "    <tr>\n",
       "      <th>4</th>\n",
       "      <td>Cuyahoga</td>\n",
       "      <td>1337</td>\n",
       "      <td>Ohio</td>\n",
       "      <td>OH</td>\n",
       "      <td>John Kasich</td>\n",
       "    </tr>\n",
       "  </tbody>\n",
       "</table>\n",
       "</div>"
      ],
      "text/plain": [
       "         name  population    state shortname info.governor\n",
       "0        Dade       12345  Florida        FL    Rick Scott\n",
       "1     Broward       40000  Florida        FL    Rick Scott\n",
       "2  Palm Beach       60000  Florida        FL    Rick Scott\n",
       "3      Summit        1234     Ohio        OH   John Kasich\n",
       "4    Cuyahoga        1337     Ohio        OH   John Kasich"
      ]
     },
     "execution_count": 5,
     "metadata": {},
     "output_type": "execute_result"
    }
   ],
   "source": [
    "from pandas.io.json import json_normalize\n",
    "data = [{'state': 'Florida',\n",
    "         'shortname': 'FL',\n",
    "         'info': {'governor': 'Rick Scott'},\n",
    "        'counties': [{'name': 'Dade', 'population': 12345},\n",
    "                      {'name': 'Broward', 'population': 40000},\n",
    "                      {'name': 'Palm Beach', 'population': 60000}]},\n",
    "         {'state': 'Ohio',\n",
    "          'shortname': 'OH',\n",
    "          'info': {'governor': 'John Kasich'},\n",
    "          'counties': [{'name': 'Summit', 'population': 1234},\n",
    "                       {'name': 'Cuyahoga', 'population': 1337}]}]\n",
    "\n",
    "print(type(data))\n",
    "result = json_normalize(data, 'counties', ['state', 'shortname',\n",
    "                                           ['info', 'governor']])\n",
    "result"
   ]
  },
  {
   "cell_type": "code",
   "execution_count": 3,
   "metadata": {
    "collapsed": false
   },
   "outputs": [
    {
     "data": {
      "text/html": [
       "<div>\n",
       "<table border=\"1\" class=\"dataframe\">\n",
       "  <thead>\n",
       "    <tr style=\"text-align: right;\">\n",
       "      <th></th>\n",
       "      <th>id</th>\n",
       "      <th>name</th>\n",
       "      <th>name.family</th>\n",
       "      <th>name.first</th>\n",
       "      <th>name.given</th>\n",
       "      <th>name.last</th>\n",
       "    </tr>\n",
       "  </thead>\n",
       "  <tbody>\n",
       "    <tr>\n",
       "      <th>0</th>\n",
       "      <td>1.0</td>\n",
       "      <td>NaN</td>\n",
       "      <td>NaN</td>\n",
       "      <td>Coleen</td>\n",
       "      <td>NaN</td>\n",
       "      <td>Volk</td>\n",
       "    </tr>\n",
       "    <tr>\n",
       "      <th>1</th>\n",
       "      <td>NaN</td>\n",
       "      <td>NaN</td>\n",
       "      <td>Regner</td>\n",
       "      <td>NaN</td>\n",
       "      <td>Mose</td>\n",
       "      <td>NaN</td>\n",
       "    </tr>\n",
       "    <tr>\n",
       "      <th>2</th>\n",
       "      <td>2.0</td>\n",
       "      <td>Faye Raker</td>\n",
       "      <td>NaN</td>\n",
       "      <td>NaN</td>\n",
       "      <td>NaN</td>\n",
       "      <td>NaN</td>\n",
       "    </tr>\n",
       "  </tbody>\n",
       "</table>\n",
       "</div>"
      ],
      "text/plain": [
       "    id        name name.family name.first name.given name.last\n",
       "0  1.0         NaN         NaN     Coleen        NaN      Volk\n",
       "1  NaN         NaN      Regner        NaN       Mose       NaN\n",
       "2  2.0  Faye Raker         NaN        NaN        NaN       NaN"
      ]
     },
     "execution_count": 3,
     "metadata": {},
     "output_type": "execute_result"
    }
   ],
   "source": [
    "data = [{'id': 1, 'name': {'first': 'Coleen', 'last': 'Volk'}},\n",
    "         {'name': {'given': 'Mose', 'family': 'Regner'}},\n",
    "         {'id': 2, 'name': 'Faye Raker'}]\n",
    "json_normalize(data)"
   ]
  }
 ],
 "metadata": {
  "anaconda-cloud": {},
  "kernelspec": {
   "display_name": "Python [Root]",
   "language": "python",
   "name": "Python [Root]"
  },
  "language_info": {
   "codemirror_mode": {
    "name": "ipython",
    "version": 3
   },
   "file_extension": ".py",
   "mimetype": "text/x-python",
   "name": "python",
   "nbconvert_exporter": "python",
   "pygments_lexer": "ipython3",
   "version": "3.5.2"
  }
 },
 "nbformat": 4,
 "nbformat_minor": 0
}
